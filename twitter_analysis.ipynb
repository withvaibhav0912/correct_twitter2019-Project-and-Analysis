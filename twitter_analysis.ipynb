{
 "cells": [
  {
   "cell_type": "markdown",
   "id": "ec332ad2-4764-4cd9-b5e5-6a5f9ad5f5ae",
   "metadata": {},
   "source": [
    "#### How many tweets were posted containing the term on each day?\n"
   ]
  },
  {
   "cell_type": "code",
   "execution_count": 56,
   "id": "0afbb0e3-97f5-43fb-8fea-86aaa9bc1569",
   "metadata": {},
   "outputs": [
    {
     "name": "stdout",
     "output_type": "stream",
     "text": [
      "    created_at  tweet_count\n",
      "0   2019-03-12            3\n",
      "1   2019-04-06            1\n",
      "2   2019-04-14            1\n",
      "3   2019-04-16            1\n",
      "4   2019-04-21            1\n",
      "5   2019-04-24            1\n",
      "6   2019-04-26            1\n",
      "7   2019-04-27            3\n",
      "8   2019-04-28           22\n",
      "9   2019-04-29          118\n",
      "10  2019-04-30          135\n",
      "11  2019-05-01           71\n",
      "12  2019-05-02           72\n",
      "13  2019-05-03          103\n",
      "14  2019-05-04           75\n",
      "15  2019-05-05           65\n",
      "16  2019-05-06           71\n",
      "17  2019-05-07           64\n",
      "18  2019-05-08           60\n",
      "19  2019-05-09           70\n",
      "20  2019-05-10          307\n",
      "21  2019-05-11           78\n",
      "22  2019-05-12           69\n",
      "23  2019-05-13           50\n",
      "24  2019-05-14           67\n",
      "25  2019-05-15           99\n",
      "26  2019-05-16           91\n",
      "27  2019-05-17          162\n",
      "28  2019-05-18           61\n",
      "29  2019-05-19           46\n",
      "30  2019-05-20           64\n",
      "31  2019-05-21          119\n",
      "32  2019-05-22           80\n",
      "33  2019-05-23           73\n",
      "34  2019-05-24           49\n",
      "35  2019-05-25           92\n",
      "36  2019-05-26          112\n",
      "37  2019-05-27           76\n",
      "38  2019-05-28           96\n",
      "39  2019-05-29          187\n",
      "40  2019-05-30           71\n",
      "41  2019-05-31           14\n"
     ]
    }
   ],
   "source": [
    "import pandas as pd\n",
    "df = pd.read_csv('correct_twitter_201904.tsv', sep='\\t')\n",
    "df['created_at'] = pd.to_datetime(df['created_at'], errors='coerce', utc=True)\n",
    "\n",
    "if df['created_at'].isnull().all():\n",
    "    print(\"Error: 'created_at' column could not be converted to datetime.\")\n",
    "else:\n",
    "    def tweets_per_day(term):\n",
    "        filtered_df = df[df['text'].str.contains(term, case=False, na=False)]\n",
    "        daily_tweet_count = filtered_df.groupby(filtered_df['created_at'].dt.date)['id'].count()\n",
    "        return daily_tweet_count.reset_index(name='tweet_count')\n",
    "    result = tweets_per_day(\"music\")\n",
    "    print(result)"
   ]
  },
  {
   "cell_type": "markdown",
   "id": "792f51ce-629b-4f2c-9dcc-16ee05b2fdd9",
   "metadata": {},
   "source": [
    "#### How many unique users posted a tweet containing the term?"
   ]
  },
  {
   "cell_type": "code",
   "execution_count": 57,
   "id": "d532a921-55fe-49d2-878b-81dc251b11a0",
   "metadata": {},
   "outputs": [
    {
     "name": "stdout",
     "output_type": "stream",
     "text": [
      "Number of unique users posting tweets containing the term: 2109\n"
     ]
    }
   ],
   "source": [
    "def unique_users_posting_term(term):\n",
    "    filtered_df = df[df['text'].str.contains(term, case=False, na=False)]\n",
    "    unique_user_count = filtered_df['author_id'].nunique()\n",
    "    return unique_user_count\n",
    "result = unique_users_posting_term(\"music\")\n",
    "print(f\"Number of unique users posting tweets containing the term: {result}\")"
   ]
  },
  {
   "cell_type": "markdown",
   "id": "b134f00f-6392-4ebe-b674-f1d2680cf6f8",
   "metadata": {},
   "source": [
    "#### How many likes did tweets containing the term get, on average?"
   ]
  },
  {
   "cell_type": "code",
   "execution_count": 58,
   "id": "3911e57f-d9e8-4182-8617-0816fe3f56e0",
   "metadata": {},
   "outputs": [
    {
     "name": "stdout",
     "output_type": "stream",
     "text": [
      "Average number of likes for tweets containing the term: 161.41\n"
     ]
    }
   ],
   "source": [
    "def average_likes_for_term(term):\n",
    "    filtered_df = df[df['text'].str.contains(term, case=False, na=False)]\n",
    "    average_likes = filtered_df['like_count'].mean()\n",
    "    return average_likes\n",
    "result = average_likes_for_term(\"music\")\n",
    "print(f\"Average number of likes for tweets containing the term: {result:.2f}\")"
   ]
  },
  {
   "cell_type": "markdown",
   "id": "92409c0f-7b16-4d61-bdfb-a8f7ab3e99eb",
   "metadata": {},
   "source": [
    "#### Where (in terms of place IDs) did the tweets come from?"
   ]
  },
  {
   "cell_type": "code",
   "execution_count": 59,
   "id": "2d6385b3-3555-47e9-b797-666f40fea689",
   "metadata": {},
   "outputs": [
    {
     "name": "stdout",
     "output_type": "stream",
     "text": [
      "Unique place IDs for tweets containing the term: ['53504716d445dcad' 'ab2f2fac83aa388d' '0113afc024d5e0bc'\n",
      " '300bcc6e23a88361' '8e9665cec9370f0f' 'd56c5babcffde8ef'\n",
      " '01153d1b33e1641b' '09f6a7707f18e0b1' '714789cf3b7a50d0'\n",
      " '01fbe706f872cb32' '1a7a70d4a28e96a1' 'f97108ab3c4a42ed'\n",
      " 'ac88a4f17a51c7fc' '5de8cffc145c486b' '3f7a925ec706ea48'\n",
      " '001aff55522d96c9' '4c8e28554110ebcf' '5c62ffb0f0f3479d'\n",
      " '3b77caf94bfc81fe' 'ecbe2aea853af44e' 'de599025180e2ee7'\n",
      " '00b673715a35dfa7' '43d2418301bf1a49' '07e9c7d1954fff64'\n",
      " '0570f015c264cbd9' '0149775319466b18' '91890dbb74364d63'\n",
      " '01ddb0100b1efd97' 'b49b3053b5c25bf5' '7cb7440bcf83d464'\n",
      " '151b9e91272233d1' '9d63050d3d33d32f' '140800566259f12f'\n",
      " '743df94d8dcb69a6' '8bc4eeacf63235f9' '8943f93b51e3f357'\n",
      " '2bc7c264a080898b' '814cfc71b843ff40' '2b8922cbe7f16337'\n",
      " '7de31e05e99a00f8']\n"
     ]
    }
   ],
   "source": [
    "def place_ids_for_term(term):\n",
    "    filtered_df = df[df['text'].str.contains(term, case=False, na=False)]\n",
    "    unique_place_ids = filtered_df['place_id'].dropna().unique()\n",
    "    return unique_place_ids\n",
    "result = place_ids_for_term(\"music\")\n",
    "print(f\"Unique place IDs for tweets containing the term: {result}\")"
   ]
  },
  {
   "cell_type": "markdown",
   "id": "a8af38a9-43bd-47a1-aac9-3882c5c0632b",
   "metadata": {},
   "source": [
    "#### What times of day were the tweets posted at? "
   ]
  },
  {
   "cell_type": "code",
   "execution_count": 60,
   "id": "4a921bd6-02f4-462e-b01b-6f6bbeb93197",
   "metadata": {},
   "outputs": [
    {
     "name": "stdout",
     "output_type": "stream",
     "text": [
      "Number of tweets posted at each hour of the day:\n",
      "created_at\n",
      "0     159\n",
      "1     154\n",
      "2     166\n",
      "3     155\n",
      "4     135\n",
      "5     119\n",
      "6      89\n",
      "7      85\n",
      "8      99\n",
      "9      94\n",
      "10     70\n",
      "11     55\n",
      "12    107\n",
      "13    130\n",
      "14    151\n",
      "15    147\n",
      "16    122\n",
      "17    137\n",
      "18    152\n",
      "19    163\n",
      "20    120\n",
      "21    110\n",
      "22    146\n",
      "23    136\n",
      "Name: count, dtype: int64\n"
     ]
    }
   ],
   "source": [
    "def times_of_day_for_term(term):\n",
    "    filtered_df = df[df['text'].str.contains(term, case=False, na=False)]\n",
    "    tweet_hours = filtered_df['created_at'].dt.hour\n",
    "    hour_distribution = tweet_hours.value_counts().sort_index()\n",
    "    return hour_distribution\n",
    "result = times_of_day_for_term(\"music\")\n",
    "print(f\"Number of tweets posted at each hour of the day:\\n{result}\")"
   ]
  },
  {
   "cell_type": "code",
   "execution_count": 61,
   "id": "2e61e7c6-c8c7-468a-98a6-b6e0dd9e835d",
   "metadata": {},
   "outputs": [
    {
     "data": {
      "image/png": "[encoded data removed]",
      "text/plain": [
       "<Figure size 1000x600 with 1 Axes>"
      ]
     },
     "metadata": {},
     "output_type": "display_data"
    }
   ],
   "source": [
    "import matplotlib.pyplot as plt\n",
    "result.plot(kind='bar', figsize=(10, 6))\n",
    "plt.title('Tweet Activity by Hour of Day')\n",
    "plt.xlabel('Hour of Day')\n",
    "plt.ylabel('Number of Tweets')\n",
    "plt.xticks(rotation=0)\n",
    "plt.show()"
   ]
  },
  {
   "cell_type": "code",
   "execution_count": null,
   "id": "3353304e-1cac-457d-870e-50b1e31e430e",
   "metadata": {},
   "outputs": [],
   "source": []
  },
  {
   "cell_type": "code",
   "execution_count": 62,
   "id": "9549faee-2724-4192-a628-fd2c3d498a4d",
   "metadata": {},
   "outputs": [
    {
     "name": "stdout",
     "output_type": "stream",
     "text": [
      "The user who posted the most tweets containing the term is: 118301422\n",
      "Number of tweets posted by this user: 90\n"
     ]
    }
   ],
   "source": [
    "def most_frequent_user_for_term(term):\n",
    "    filtered_df = df[df['text'].str.contains(term, case=False, na=False)]\n",
    "    tweet_counts_by_user = filtered_df['author_id'].value_counts()\n",
    "    top_user = tweet_counts_by_user.idxmax()  # User ID with the most tweets\n",
    "    top_user_tweet_count = tweet_counts_by_user.max()  # Number of tweets by this user\n",
    "    return top_user, top_user_tweet_count\n",
    "user, tweet_count = most_frequent_user_for_term(\"music\")\n",
    "print(f\"The user who posted the most tweets containing the term is: {user}\")\n",
    "print(f\"Number of tweets posted by this user: {tweet_count}\")"
   ]
  },
  {
   "cell_type": "code",
   "execution_count": null,
   "id": "9a8ab295-6cc3-415b-a7d6-f62843ed33bb",
   "metadata": {},
   "outputs": [],
   "source": [
    "\n"
   ]
  },
  {
   "cell_type": "code",
   "execution_count": null,
   "id": "e113bb37-84f8-499f-a55d-775d15e6808a",
   "metadata": {},
   "outputs": [],
   "source": []
  }
 ],
 "metadata": {
  "kernelspec": {
   "display_name": "Python 3 (ipykernel)",
   "language": "python",
   "name": "python3"
  },
  "language_info": {
   "codemirror_mode": {
    "name": "ipython",
    "version": 3
   },
   "file_extension": ".py",
   "mimetype": "text/x-python",
   "name": "python",
   "nbconvert_exporter": "python",
   "pygments_lexer": "ipython3",
   "version": "3.11.7"
  }
 },
 "nbformat": 4,
 "nbformat_minor": 5
}
